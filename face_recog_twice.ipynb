{
 "cells": [
  {
   "cell_type": "code",
   "execution_count": 11,
   "metadata": {},
   "outputs": [],
   "source": [
    "import cv2\n",
    "import numpy as np\n",
    "import math\n",
    "import matplotlib.pyplot as plt\n",
    "import os"
   ]
  },
  {
   "cell_type": "code",
   "execution_count": 1,
   "metadata": {},
   "outputs": [],
   "source": [
    "def get_path_list(root_path):\n",
    "    for idx, name_train in enumerate(os.listdir(root_path)):\n",
    "        name_train_path = root_path+name_train\n",
    "        return name_train"
   ]
  },
  {
   "cell_type": "code",
   "execution_count": 2,
   "metadata": {},
   "outputs": [],
   "source": [
    "def get_class_id(root_path, train_names):\n",
    "    img_train = []\n",
    "    img_class = []\n",
    "\n",
    "    #looping every data in our path and return them as labeled data\n",
    "    for idx, name_train in enumerate(os.listdir(root_path)):\n",
    "        name_train_path = root_path+name_train\n",
    "        for person_name in os.listdir(name_train_path):\n",
    "            img = name_train_path + '/' + person_name\n",
    "            img_train.append(img)\n",
    "            img_class.append(idx)\n",
    "    return img_train, img_class"
   ]
  },
  {
   "cell_type": "code",
   "execution_count": 3,
   "metadata": {},
   "outputs": [],
   "source": [
    "def detect_train_faces_and_filter(image_list, image_classes_list):\n",
    "    train_face_grays = []\n",
    "    filtered_classes_list = image_classes_list\n",
    "\n",
    "    # init cascade function to trained images both positive and negative\n",
    "    face_cascade = cv2.CascadeClassifier('haarcascade_frontalface_default.xml')\n",
    "    for img in image_list:\n",
    "        img_gray = cv2.imread(img,0)\n",
    "        # doing the detection\n",
    "        detected_face = face_cascade.detectMultiScale(img_gray, scaleFactor=1.2, minNeighbors=5)\n",
    "        if(len(detected_face)<1):\n",
    "            continue\n",
    "        for face_rect in detected_face:\n",
    "            x,y,h,w = face_rect\n",
    "            # cropping the image to fit the face\n",
    "            face_img = img_gray[y:y+h, x:x+w] \n",
    "            train_face_grays.append(face_img)\n",
    "    return train_face_grays, filtered_classes_list"
   ]
  },
  {
   "cell_type": "code",
   "execution_count": 4,
   "metadata": {},
   "outputs": [],
   "source": [
    "def train(train_face_grays, image_classes_list):\n",
    "    face_recognizer = cv2.face.LBPHFaceRecognizer_create()\n",
    "    face_recognizer.train(train_face_grays, np.array(image_classes_list))\n",
    "    return face_recognizer"
   ]
  },
  {
   "cell_type": "code",
   "execution_count": 5,
   "metadata": {},
   "outputs": [],
   "source": [
    "def get_test_images_data(test_root_path):\n",
    "    img_list = []\n",
    "    for name_test in os.listdir('dataset/test'):\n",
    "        img_bgr= 'dataset/test/'+name_test\n",
    "        img_list.append(img_bgr)\n",
    "    return img_list"
   ]
  },
  {
   "cell_type": "code",
   "execution_count": 6,
   "metadata": {},
   "outputs": [],
   "source": [
    "def detect_test_faces_and_filter(image_list):\n",
    "    test_faces_gray = []\n",
    "    test_faces_rect = []\n",
    "    face_cascade = cv2.CascadeClassifier('haarcascade_frontalface_default.xml')\n",
    "    for img in image_list:\n",
    "        img_bgr = cv2.imread(img)\n",
    "        img_gray = cv2.cvtColor(img_bgr, cv2.COLOR_BGR2GRAY)\n",
    "        # perform the cascade detection\n",
    "        detected_face = face_cascade.detectMultiScale(img_gray, scaleFactor=1.2, minNeighbors=5)\n",
    "        \n",
    "        if(len(detected_face)<1):\n",
    "            continue\n",
    "        for face_rect in detected_face:\n",
    "            x,y,h,w = face_rect\n",
    "            face_img = img_gray[y:y+h, x:x+w]\n",
    "            test_faces_gray.append(face_img)\n",
    "            test_faces_rect.append(face_rect)\n",
    "\n",
    "    return test_faces_gray, test_faces_rect"
   ]
  },
  {
   "cell_type": "code",
   "execution_count": 7,
   "metadata": {},
   "outputs": [],
   "source": [
    "def predict(recognizer, test_image_list):\n",
    "    predict_result = []\n",
    "    face_cascade = cv2.CascadeClassifier('haarcascade_frontalface_default.xml')\n",
    "    for img in test_image_list:\n",
    "        # detecting every faces in test_image_list\n",
    "        detected_face = face_cascade.detectMultiScale(img, scaleFactor=1.2, minNeighbors=5)\n",
    "        \n",
    "        if(len(detected_face)<1):\n",
    "            continue\n",
    "        for face_rect in detected_face:\n",
    "            # perform the recognizer to predict the image\n",
    "            predict = recognizer.predict(img)\n",
    "            predict_result.append(predict)\n",
    "    return predict_result"
   ]
  },
  {
   "cell_type": "code",
   "execution_count": 8,
   "metadata": {},
   "outputs": [],
   "source": [
    "def draw_prediction_results(predict_results, test_image_list, test_faces_rects, train_names, size):\n",
    "    final_rects = []\n",
    "    person_name = os.listdir('dataset/train')\n",
    "    # looping every prediction\n",
    "    for face_rect,image,pred_result in zip(test_faces_rects,test_image_list,predict_results):\n",
    "        x,y,h,w = face_rect\n",
    "        res,conf = pred_result\n",
    "        img_bgr= cv2.imread(image)\n",
    "        # calculate the percentage of face detection\n",
    "        confidence = math.floor(conf *100)/100\n",
    "        text = person_name[res]+ ' ' + str(confidence) + '%'\n",
    "        cv2.putText(img_bgr, text, (x,y-10), cv2.FONT_HERSHEY_PLAIN, 1.5, (0,255,0) , 2)\n",
    "        # draw the rectangle with green line\n",
    "        cv2.rectangle(img_bgr, (x,y), (x+w, y+h), (0,255,0))\n",
    "        final_rects.append(img_bgr)\n",
    "    return final_rects"
   ]
  },
  {
   "cell_type": "code",
   "execution_count": 9,
   "metadata": {},
   "outputs": [],
   "source": [
    "def combine_and_show_result(image_list, size):\n",
    "    image = [cv2.resize(img,(size,size)) for img in image_list]\n",
    "    concated_img = cv2.hconcat(image)\n",
    "    cv2.imshow('result', concated_img)\n",
    "    cv2.waitKey(0)"
   ]
  },
  {
   "cell_type": "code",
   "execution_count": null,
   "metadata": {},
   "outputs": [],
   "source": [
    "if __name__ == \"__main__\":\n",
    "    \n",
    "    train_root_path = 'dataset/train/'\n",
    "\n",
    "    train_names = get_path_list(train_root_path)\n",
    "    train_image_list, image_classes_list = get_class_id(train_root_path, train_names)\n",
    "    train_face_grays, filtered_classes_list = detect_train_faces_and_filter(train_image_list, image_classes_list)\n",
    "    recognizer = train(train_face_grays, filtered_classes_list)\n",
    "\n",
    "    test_root_path =  'dataset/test/'\n",
    "\n",
    "    test_image_list = get_test_images_data(test_root_path)\n",
    "    test_faces_gray, test_faces_rects = detect_test_faces_and_filter(test_image_list)\n",
    "    predict_results = predict(recognizer, test_faces_gray)\n",
    "    predicted_test_image_list = draw_prediction_results(predict_results, test_image_list, test_faces_rects, train_names, 200)\n",
    "    \n",
    "    combine_and_show_result(predicted_test_image_list, 200)"
   ]
  },
  {
   "cell_type": "code",
   "execution_count": null,
   "metadata": {},
   "outputs": [],
   "source": []
  }
 ],
 "metadata": {
  "kernelspec": {
   "display_name": "Python 3",
   "language": "python",
   "name": "python3"
  },
  "language_info": {
   "codemirror_mode": {
    "name": "ipython",
    "version": 3
   },
   "file_extension": ".py",
   "mimetype": "text/x-python",
   "name": "python",
   "nbconvert_exporter": "python",
   "pygments_lexer": "ipython3",
   "version": "3.7.8"
  }
 },
 "nbformat": 4,
 "nbformat_minor": 4
}

